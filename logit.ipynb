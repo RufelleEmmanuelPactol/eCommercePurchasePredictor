{
 "cells": [
  {
   "cell_type": "code",
   "execution_count": 7,
   "id": "initial_id",
   "metadata": {
    "collapsed": true,
    "ExecuteTime": {
     "end_time": "2023-11-17T01:11:38.065039900Z",
     "start_time": "2023-11-17T01:11:37.946280100Z"
    }
   },
   "outputs": [
    {
     "data": {
      "text/plain": "       Administrative  Administrative_Duration  Informational  \\\n0                   0                      0.0              0   \n1                   0                      0.0              0   \n2                   0                      0.0              0   \n3                   0                      0.0              0   \n4                   0                      0.0              0   \n...               ...                      ...            ...   \n12325               3                    145.0              0   \n12326               0                      0.0              0   \n12327               0                      0.0              0   \n12328               4                     75.0              0   \n12329               0                      0.0              0   \n\n       Informational_Duration  ProductRelated  ProductRelated_Duration  \\\n0                         0.0               1                 0.000000   \n1                         0.0               2                64.000000   \n2                         0.0               1                 0.000000   \n3                         0.0               2                 2.666667   \n4                         0.0              10               627.500000   \n...                       ...             ...                      ...   \n12325                     0.0              53              1783.791667   \n12326                     0.0               5               465.750000   \n12327                     0.0               6               184.250000   \n12328                     0.0              15               346.000000   \n12329                     0.0               3                21.250000   \n\n       BounceRates  ExitRates  PageValues  SpecialDay Month  OperatingSystems  \\\n0         0.200000   0.200000    0.000000         0.0   Feb                 1   \n1         0.000000   0.100000    0.000000         0.0   Feb                 2   \n2         0.200000   0.200000    0.000000         0.0   Feb                 4   \n3         0.050000   0.140000    0.000000         0.0   Feb                 3   \n4         0.020000   0.050000    0.000000         0.0   Feb                 3   \n...            ...        ...         ...         ...   ...               ...   \n12325     0.007143   0.029031   12.241717         0.0   Dec                 4   \n12326     0.000000   0.021333    0.000000         0.0   Nov                 3   \n12327     0.083333   0.086667    0.000000         0.0   Nov                 3   \n12328     0.000000   0.021053    0.000000         0.0   Nov                 2   \n12329     0.000000   0.066667    0.000000         0.0   Nov                 3   \n\n       Browser  Region  TrafficType        VisitorType  Weekend  Revenue  \n0            1       1            1  Returning_Visitor    False    False  \n1            2       1            2  Returning_Visitor    False    False  \n2            1       9            3  Returning_Visitor    False    False  \n3            2       2            4  Returning_Visitor    False    False  \n4            3       1            4  Returning_Visitor     True    False  \n...        ...     ...          ...                ...      ...      ...  \n12325        6       1            1  Returning_Visitor     True    False  \n12326        2       1            8  Returning_Visitor     True    False  \n12327        2       1           13  Returning_Visitor     True    False  \n12328        2       3           11  Returning_Visitor    False    False  \n12329        2       1            2        New_Visitor     True    False  \n\n[12330 rows x 18 columns]",
      "text/html": "<div>\n<style scoped>\n    .dataframe tbody tr th:only-of-type {\n        vertical-align: middle;\n    }\n\n    .dataframe tbody tr th {\n        vertical-align: top;\n    }\n\n    .dataframe thead th {\n        text-align: right;\n    }\n</style>\n<table border=\"1\" class=\"dataframe\">\n  <thead>\n    <tr style=\"text-align: right;\">\n      <th></th>\n      <th>Administrative</th>\n      <th>Administrative_Duration</th>\n      <th>Informational</th>\n      <th>Informational_Duration</th>\n      <th>ProductRelated</th>\n      <th>ProductRelated_Duration</th>\n      <th>BounceRates</th>\n      <th>ExitRates</th>\n      <th>PageValues</th>\n      <th>SpecialDay</th>\n      <th>Month</th>\n      <th>OperatingSystems</th>\n      <th>Browser</th>\n      <th>Region</th>\n      <th>TrafficType</th>\n      <th>VisitorType</th>\n      <th>Weekend</th>\n      <th>Revenue</th>\n    </tr>\n  </thead>\n  <tbody>\n    <tr>\n      <th>0</th>\n      <td>0</td>\n      <td>0.0</td>\n      <td>0</td>\n      <td>0.0</td>\n      <td>1</td>\n      <td>0.000000</td>\n      <td>0.200000</td>\n      <td>0.200000</td>\n      <td>0.000000</td>\n      <td>0.0</td>\n      <td>Feb</td>\n      <td>1</td>\n      <td>1</td>\n      <td>1</td>\n      <td>1</td>\n      <td>Returning_Visitor</td>\n      <td>False</td>\n      <td>False</td>\n    </tr>\n    <tr>\n      <th>1</th>\n      <td>0</td>\n      <td>0.0</td>\n      <td>0</td>\n      <td>0.0</td>\n      <td>2</td>\n      <td>64.000000</td>\n      <td>0.000000</td>\n      <td>0.100000</td>\n      <td>0.000000</td>\n      <td>0.0</td>\n      <td>Feb</td>\n      <td>2</td>\n      <td>2</td>\n      <td>1</td>\n      <td>2</td>\n      <td>Returning_Visitor</td>\n      <td>False</td>\n      <td>False</td>\n    </tr>\n    <tr>\n      <th>2</th>\n      <td>0</td>\n      <td>0.0</td>\n      <td>0</td>\n      <td>0.0</td>\n      <td>1</td>\n      <td>0.000000</td>\n      <td>0.200000</td>\n      <td>0.200000</td>\n      <td>0.000000</td>\n      <td>0.0</td>\n      <td>Feb</td>\n      <td>4</td>\n      <td>1</td>\n      <td>9</td>\n      <td>3</td>\n      <td>Returning_Visitor</td>\n      <td>False</td>\n      <td>False</td>\n    </tr>\n    <tr>\n      <th>3</th>\n      <td>0</td>\n      <td>0.0</td>\n      <td>0</td>\n      <td>0.0</td>\n      <td>2</td>\n      <td>2.666667</td>\n      <td>0.050000</td>\n      <td>0.140000</td>\n      <td>0.000000</td>\n      <td>0.0</td>\n      <td>Feb</td>\n      <td>3</td>\n      <td>2</td>\n      <td>2</td>\n      <td>4</td>\n      <td>Returning_Visitor</td>\n      <td>False</td>\n      <td>False</td>\n    </tr>\n    <tr>\n      <th>4</th>\n      <td>0</td>\n      <td>0.0</td>\n      <td>0</td>\n      <td>0.0</td>\n      <td>10</td>\n      <td>627.500000</td>\n      <td>0.020000</td>\n      <td>0.050000</td>\n      <td>0.000000</td>\n      <td>0.0</td>\n      <td>Feb</td>\n      <td>3</td>\n      <td>3</td>\n      <td>1</td>\n      <td>4</td>\n      <td>Returning_Visitor</td>\n      <td>True</td>\n      <td>False</td>\n    </tr>\n    <tr>\n      <th>...</th>\n      <td>...</td>\n      <td>...</td>\n      <td>...</td>\n      <td>...</td>\n      <td>...</td>\n      <td>...</td>\n      <td>...</td>\n      <td>...</td>\n      <td>...</td>\n      <td>...</td>\n      <td>...</td>\n      <td>...</td>\n      <td>...</td>\n      <td>...</td>\n      <td>...</td>\n      <td>...</td>\n      <td>...</td>\n      <td>...</td>\n    </tr>\n    <tr>\n      <th>12325</th>\n      <td>3</td>\n      <td>145.0</td>\n      <td>0</td>\n      <td>0.0</td>\n      <td>53</td>\n      <td>1783.791667</td>\n      <td>0.007143</td>\n      <td>0.029031</td>\n      <td>12.241717</td>\n      <td>0.0</td>\n      <td>Dec</td>\n      <td>4</td>\n      <td>6</td>\n      <td>1</td>\n      <td>1</td>\n      <td>Returning_Visitor</td>\n      <td>True</td>\n      <td>False</td>\n    </tr>\n    <tr>\n      <th>12326</th>\n      <td>0</td>\n      <td>0.0</td>\n      <td>0</td>\n      <td>0.0</td>\n      <td>5</td>\n      <td>465.750000</td>\n      <td>0.000000</td>\n      <td>0.021333</td>\n      <td>0.000000</td>\n      <td>0.0</td>\n      <td>Nov</td>\n      <td>3</td>\n      <td>2</td>\n      <td>1</td>\n      <td>8</td>\n      <td>Returning_Visitor</td>\n      <td>True</td>\n      <td>False</td>\n    </tr>\n    <tr>\n      <th>12327</th>\n      <td>0</td>\n      <td>0.0</td>\n      <td>0</td>\n      <td>0.0</td>\n      <td>6</td>\n      <td>184.250000</td>\n      <td>0.083333</td>\n      <td>0.086667</td>\n      <td>0.000000</td>\n      <td>0.0</td>\n      <td>Nov</td>\n      <td>3</td>\n      <td>2</td>\n      <td>1</td>\n      <td>13</td>\n      <td>Returning_Visitor</td>\n      <td>True</td>\n      <td>False</td>\n    </tr>\n    <tr>\n      <th>12328</th>\n      <td>4</td>\n      <td>75.0</td>\n      <td>0</td>\n      <td>0.0</td>\n      <td>15</td>\n      <td>346.000000</td>\n      <td>0.000000</td>\n      <td>0.021053</td>\n      <td>0.000000</td>\n      <td>0.0</td>\n      <td>Nov</td>\n      <td>2</td>\n      <td>2</td>\n      <td>3</td>\n      <td>11</td>\n      <td>Returning_Visitor</td>\n      <td>False</td>\n      <td>False</td>\n    </tr>\n    <tr>\n      <th>12329</th>\n      <td>0</td>\n      <td>0.0</td>\n      <td>0</td>\n      <td>0.0</td>\n      <td>3</td>\n      <td>21.250000</td>\n      <td>0.000000</td>\n      <td>0.066667</td>\n      <td>0.000000</td>\n      <td>0.0</td>\n      <td>Nov</td>\n      <td>3</td>\n      <td>2</td>\n      <td>1</td>\n      <td>2</td>\n      <td>New_Visitor</td>\n      <td>True</td>\n      <td>False</td>\n    </tr>\n  </tbody>\n</table>\n<p>12330 rows × 18 columns</p>\n</div>"
     },
     "execution_count": 7,
     "metadata": {},
     "output_type": "execute_result"
    }
   ],
   "source": [
    "import pandas as pd\n",
    "\n",
    "pd.read_csv('archive/online_shoppers_intention.csv')"
   ]
  }
 ],
 "metadata": {
  "kernelspec": {
   "display_name": "Python 3",
   "language": "python",
   "name": "python3"
  },
  "language_info": {
   "codemirror_mode": {
    "name": "ipython",
    "version": 2
   },
   "file_extension": ".py",
   "mimetype": "text/x-python",
   "name": "python",
   "nbconvert_exporter": "python",
   "pygments_lexer": "ipython2",
   "version": "2.7.6"
  }
 },
 "nbformat": 4,
 "nbformat_minor": 5
}
